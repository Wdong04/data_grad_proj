{
 "cells": [
  {
   "cell_type": "code",
   "execution_count": 3,
   "metadata": {
    "collapsed": true
   },
   "outputs": [],
   "source": [
    "import numpy as np # linear algebra\n",
    "import pandas as pd # data processing, CSV file I/O (e.g. pd.read_csv)\n",
    "import matplotlib.pyplot as plt\n",
    "import seaborn as sns\n",
    "\n",
    "nasa_neows_file = \"/Users/ruicong/Documents/Berkeley Courses/200/data_grad_proj/nasa_neows.csv\"\n",
    "\n",
    "#load data\n",
    "asteroids_data = pd.read_csv(nasa_neows_file)"
   ]
  },
  {
   "cell_type": "code",
   "execution_count": 2,
   "outputs": [
    {
     "data": {
      "text/plain": "    Neo Reference ID     Name  Absolute Magnitude  Est Dia in KM(min)  \\\n0            3703080  3703080                21.6            0.127220   \n1            3723955  3723955                21.3            0.146068   \n2            2446862  2446862                20.3            0.231502   \n3            3092506  3092506                27.4            0.008801   \n4            3514799  3514799                21.6            0.127220   \n..               ...      ...                 ...                 ...   \n95           3666783  3666783                20.3            0.231502   \n96           2307070  2307070                20.7            0.192555   \n97           2314082  2314082                17.5            0.840533   \n98           3008362  3008362                20.3            0.231502   \n99           3182823  3182823                24.1            0.040230   \n\n    Est Dia in KM(max)  Est Dia in M(min)  Est Dia in M(max)  \\\n0             0.284472         127.219879         284.472297   \n1             0.326618         146.067964         326.617897   \n2             0.517654         231.502122         517.654482   \n3             0.019681           8.801465          19.680675   \n4             0.284472         127.219879         284.472297   \n..                 ...                ...                ...   \n95            0.517654         231.502122         517.654482   \n96            0.430566         192.555078         430.566244   \n97            1.879490         840.533402        1879.489824   \n98            0.517654         231.502122         517.654482   \n99            0.089958          40.230458          89.958039   \n\n    Est Dia in Miles(min)  Est Dia in Miles(max)  Est Dia in Feet(min)  ...  \\\n0                0.079051               0.176763            417.388066  ...   \n1                0.090762               0.202951            479.225620  ...   \n2                0.143849               0.321655            759.521423  ...   \n3                0.005469               0.012229             28.876199  ...   \n4                0.079051               0.176763            417.388066  ...   \n..                    ...                    ...                   ...  ...   \n95               0.143849               0.321655            759.521423  ...   \n96               0.119648               0.267541            631.742403  ...   \n97               0.522283               1.167860           2757.655607  ...   \n98               0.143849               0.321655            759.521423  ...   \n99               0.024998               0.055897            131.989696  ...   \n\n    Asc Node Longitude Orbital Period  Perihelion Distance  Perihelion Arg  \\\n0           314.373913     609.599786             0.808259       57.257470   \n1           136.717242     425.869294             0.718200      313.091975   \n2           259.475979     643.580228             0.950791      248.415038   \n3            57.173266     514.082140             0.983902       18.707701   \n4            84.629307     495.597821             0.967687      158.263596   \n..                 ...            ...                  ...             ...   \n95          358.658780     238.263673             0.548264      347.462346   \n96          119.311364     547.674656             0.983258      267.378524   \n97          116.819132    1222.472485             0.951021      139.327694   \n98          118.961795     584.132786             1.016351      305.888407   \n99          243.051913     276.259429             0.492002      213.634669   \n\n    Aphelion Dist  Perihelion Time  Mean Anomaly  Mean Motion  Equinox  \\\n0        2.005764     2.458162e+06    264.837533     0.590551    J2000   \n1        1.497352     2.457795e+06    173.741112     0.845330    J2000   \n2        1.966857     2.458120e+06    292.893654     0.559371    J2000   \n3        1.527904     2.457902e+06     68.741007     0.700277    J2000   \n4        1.483543     2.457814e+06    135.142133     0.726395    J2000   \n..            ...              ...           ...          ...      ...   \n95       0.956042     2.458043e+06    296.456145     1.510931    J2000   \n96       1.636811     2.458218e+06    217.173540     0.657325    J2000   \n97       3.523953     2.458453e+06    226.702823     0.294485    J2000   \n98       1.718742     2.458226e+06    221.176629     0.616298    J2000   \n99       1.168257     2.458037e+06    312.250296     1.303123    J2000   \n\n    Hazardous  \n0        True  \n1       False  \n2        True  \n3       False  \n4        True  \n..        ...  \n95       True  \n96      False  \n97       True  \n98      False  \n99      False  \n\n[100 rows x 40 columns]",
      "text/html": "<div>\n<style scoped>\n    .dataframe tbody tr th:only-of-type {\n        vertical-align: middle;\n    }\n\n    .dataframe tbody tr th {\n        vertical-align: top;\n    }\n\n    .dataframe thead th {\n        text-align: right;\n    }\n</style>\n<table border=\"1\" class=\"dataframe\">\n  <thead>\n    <tr style=\"text-align: right;\">\n      <th></th>\n      <th>Neo Reference ID</th>\n      <th>Name</th>\n      <th>Absolute Magnitude</th>\n      <th>Est Dia in KM(min)</th>\n      <th>Est Dia in KM(max)</th>\n      <th>Est Dia in M(min)</th>\n      <th>Est Dia in M(max)</th>\n      <th>Est Dia in Miles(min)</th>\n      <th>Est Dia in Miles(max)</th>\n      <th>Est Dia in Feet(min)</th>\n      <th>...</th>\n      <th>Asc Node Longitude</th>\n      <th>Orbital Period</th>\n      <th>Perihelion Distance</th>\n      <th>Perihelion Arg</th>\n      <th>Aphelion Dist</th>\n      <th>Perihelion Time</th>\n      <th>Mean Anomaly</th>\n      <th>Mean Motion</th>\n      <th>Equinox</th>\n      <th>Hazardous</th>\n    </tr>\n  </thead>\n  <tbody>\n    <tr>\n      <th>0</th>\n      <td>3703080</td>\n      <td>3703080</td>\n      <td>21.6</td>\n      <td>0.127220</td>\n      <td>0.284472</td>\n      <td>127.219879</td>\n      <td>284.472297</td>\n      <td>0.079051</td>\n      <td>0.176763</td>\n      <td>417.388066</td>\n      <td>...</td>\n      <td>314.373913</td>\n      <td>609.599786</td>\n      <td>0.808259</td>\n      <td>57.257470</td>\n      <td>2.005764</td>\n      <td>2.458162e+06</td>\n      <td>264.837533</td>\n      <td>0.590551</td>\n      <td>J2000</td>\n      <td>True</td>\n    </tr>\n    <tr>\n      <th>1</th>\n      <td>3723955</td>\n      <td>3723955</td>\n      <td>21.3</td>\n      <td>0.146068</td>\n      <td>0.326618</td>\n      <td>146.067964</td>\n      <td>326.617897</td>\n      <td>0.090762</td>\n      <td>0.202951</td>\n      <td>479.225620</td>\n      <td>...</td>\n      <td>136.717242</td>\n      <td>425.869294</td>\n      <td>0.718200</td>\n      <td>313.091975</td>\n      <td>1.497352</td>\n      <td>2.457795e+06</td>\n      <td>173.741112</td>\n      <td>0.845330</td>\n      <td>J2000</td>\n      <td>False</td>\n    </tr>\n    <tr>\n      <th>2</th>\n      <td>2446862</td>\n      <td>2446862</td>\n      <td>20.3</td>\n      <td>0.231502</td>\n      <td>0.517654</td>\n      <td>231.502122</td>\n      <td>517.654482</td>\n      <td>0.143849</td>\n      <td>0.321655</td>\n      <td>759.521423</td>\n      <td>...</td>\n      <td>259.475979</td>\n      <td>643.580228</td>\n      <td>0.950791</td>\n      <td>248.415038</td>\n      <td>1.966857</td>\n      <td>2.458120e+06</td>\n      <td>292.893654</td>\n      <td>0.559371</td>\n      <td>J2000</td>\n      <td>True</td>\n    </tr>\n    <tr>\n      <th>3</th>\n      <td>3092506</td>\n      <td>3092506</td>\n      <td>27.4</td>\n      <td>0.008801</td>\n      <td>0.019681</td>\n      <td>8.801465</td>\n      <td>19.680675</td>\n      <td>0.005469</td>\n      <td>0.012229</td>\n      <td>28.876199</td>\n      <td>...</td>\n      <td>57.173266</td>\n      <td>514.082140</td>\n      <td>0.983902</td>\n      <td>18.707701</td>\n      <td>1.527904</td>\n      <td>2.457902e+06</td>\n      <td>68.741007</td>\n      <td>0.700277</td>\n      <td>J2000</td>\n      <td>False</td>\n    </tr>\n    <tr>\n      <th>4</th>\n      <td>3514799</td>\n      <td>3514799</td>\n      <td>21.6</td>\n      <td>0.127220</td>\n      <td>0.284472</td>\n      <td>127.219879</td>\n      <td>284.472297</td>\n      <td>0.079051</td>\n      <td>0.176763</td>\n      <td>417.388066</td>\n      <td>...</td>\n      <td>84.629307</td>\n      <td>495.597821</td>\n      <td>0.967687</td>\n      <td>158.263596</td>\n      <td>1.483543</td>\n      <td>2.457814e+06</td>\n      <td>135.142133</td>\n      <td>0.726395</td>\n      <td>J2000</td>\n      <td>True</td>\n    </tr>\n    <tr>\n      <th>...</th>\n      <td>...</td>\n      <td>...</td>\n      <td>...</td>\n      <td>...</td>\n      <td>...</td>\n      <td>...</td>\n      <td>...</td>\n      <td>...</td>\n      <td>...</td>\n      <td>...</td>\n      <td>...</td>\n      <td>...</td>\n      <td>...</td>\n      <td>...</td>\n      <td>...</td>\n      <td>...</td>\n      <td>...</td>\n      <td>...</td>\n      <td>...</td>\n      <td>...</td>\n      <td>...</td>\n    </tr>\n    <tr>\n      <th>95</th>\n      <td>3666783</td>\n      <td>3666783</td>\n      <td>20.3</td>\n      <td>0.231502</td>\n      <td>0.517654</td>\n      <td>231.502122</td>\n      <td>517.654482</td>\n      <td>0.143849</td>\n      <td>0.321655</td>\n      <td>759.521423</td>\n      <td>...</td>\n      <td>358.658780</td>\n      <td>238.263673</td>\n      <td>0.548264</td>\n      <td>347.462346</td>\n      <td>0.956042</td>\n      <td>2.458043e+06</td>\n      <td>296.456145</td>\n      <td>1.510931</td>\n      <td>J2000</td>\n      <td>True</td>\n    </tr>\n    <tr>\n      <th>96</th>\n      <td>2307070</td>\n      <td>2307070</td>\n      <td>20.7</td>\n      <td>0.192555</td>\n      <td>0.430566</td>\n      <td>192.555078</td>\n      <td>430.566244</td>\n      <td>0.119648</td>\n      <td>0.267541</td>\n      <td>631.742403</td>\n      <td>...</td>\n      <td>119.311364</td>\n      <td>547.674656</td>\n      <td>0.983258</td>\n      <td>267.378524</td>\n      <td>1.636811</td>\n      <td>2.458218e+06</td>\n      <td>217.173540</td>\n      <td>0.657325</td>\n      <td>J2000</td>\n      <td>False</td>\n    </tr>\n    <tr>\n      <th>97</th>\n      <td>2314082</td>\n      <td>2314082</td>\n      <td>17.5</td>\n      <td>0.840533</td>\n      <td>1.879490</td>\n      <td>840.533402</td>\n      <td>1879.489824</td>\n      <td>0.522283</td>\n      <td>1.167860</td>\n      <td>2757.655607</td>\n      <td>...</td>\n      <td>116.819132</td>\n      <td>1222.472485</td>\n      <td>0.951021</td>\n      <td>139.327694</td>\n      <td>3.523953</td>\n      <td>2.458453e+06</td>\n      <td>226.702823</td>\n      <td>0.294485</td>\n      <td>J2000</td>\n      <td>True</td>\n    </tr>\n    <tr>\n      <th>98</th>\n      <td>3008362</td>\n      <td>3008362</td>\n      <td>20.3</td>\n      <td>0.231502</td>\n      <td>0.517654</td>\n      <td>231.502122</td>\n      <td>517.654482</td>\n      <td>0.143849</td>\n      <td>0.321655</td>\n      <td>759.521423</td>\n      <td>...</td>\n      <td>118.961795</td>\n      <td>584.132786</td>\n      <td>1.016351</td>\n      <td>305.888407</td>\n      <td>1.718742</td>\n      <td>2.458226e+06</td>\n      <td>221.176629</td>\n      <td>0.616298</td>\n      <td>J2000</td>\n      <td>False</td>\n    </tr>\n    <tr>\n      <th>99</th>\n      <td>3182823</td>\n      <td>3182823</td>\n      <td>24.1</td>\n      <td>0.040230</td>\n      <td>0.089958</td>\n      <td>40.230458</td>\n      <td>89.958039</td>\n      <td>0.024998</td>\n      <td>0.055897</td>\n      <td>131.989696</td>\n      <td>...</td>\n      <td>243.051913</td>\n      <td>276.259429</td>\n      <td>0.492002</td>\n      <td>213.634669</td>\n      <td>1.168257</td>\n      <td>2.458037e+06</td>\n      <td>312.250296</td>\n      <td>1.303123</td>\n      <td>J2000</td>\n      <td>False</td>\n    </tr>\n  </tbody>\n</table>\n<p>100 rows × 40 columns</p>\n</div>"
     },
     "execution_count": 2,
     "metadata": {},
     "output_type": "execute_result"
    }
   ],
   "source": [
    "asteroids_data.head(100)\n"
   ],
   "metadata": {
    "collapsed": false,
    "pycharm": {
     "name": "#%%\n"
    }
   }
  }
 ],
 "metadata": {
  "kernelspec": {
   "display_name": "Python 3",
   "language": "python",
   "name": "python3"
  },
  "language_info": {
   "codemirror_mode": {
    "name": "ipython",
    "version": 2
   },
   "file_extension": ".py",
   "mimetype": "text/x-python",
   "name": "python",
   "nbconvert_exporter": "python",
   "pygments_lexer": "ipython2",
   "version": "2.7.6"
  }
 },
 "nbformat": 4,
 "nbformat_minor": 0
}